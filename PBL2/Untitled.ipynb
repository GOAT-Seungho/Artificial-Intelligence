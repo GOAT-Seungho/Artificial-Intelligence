{
 "cells": [
  {
   "cell_type": "code",
   "execution_count": 1,
   "metadata": {},
   "outputs": [],
   "source": [
    "param_grid = [{\n",
    "    'C' : [10, 100, 1000],\n",
    "    'learning_rate' : [0.1, 0.01, 0.001],\n",
    "    'batch_size' : [8, 16, 32, 64, 128, 256]\n",
    "}]\n",
    "\n",
    "grid_search = GridSearchCV(MulticlassClassifier(), \n",
    "                           param_grid=param_grid, \n",
    "                           cv=3, scoring='accuracy',\n",
    "                           n_jobs=-1)\n",
    "\n",
    "grid_search.fit(X_train_scaled, y_train)\n",
    "\n",
    "print(grid_search.best_params_)\n",
    "print(grid_search.best_score_)"
   ]
  }
 ],
 "metadata": {
  "kernelspec": {
   "display_name": "Python 3",
   "language": "python",
   "name": "python3"
  },
  "language_info": {
   "codemirror_mode": {
    "name": "ipython",
    "version": 3
   },
   "file_extension": ".py",
   "mimetype": "text/x-python",
   "name": "python",
   "nbconvert_exporter": "python",
   "pygments_lexer": "ipython3",
   "version": "3.7.4"
  }
 },
 "nbformat": 4,
 "nbformat_minor": 2
}
